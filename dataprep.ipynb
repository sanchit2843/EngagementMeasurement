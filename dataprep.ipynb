{
 "cells": [
  {
   "cell_type": "code",
   "execution_count": 2,
   "metadata": {},
   "outputs": [
    {
     "name": "stdout",
     "output_type": "stream",
     "text": [
      "--2019-06-09 05:58:44--  https://iith.ac.in/~daisee-dataset/dataset/DAiSEE.zip\n",
      "Resolving iith.ac.in (iith.ac.in)... 103.232.241.56\n",
      "Connecting to iith.ac.in (iith.ac.in)|103.232.241.56|:443... connected.\n",
      "HTTP request sent, awaiting response... 200 OK\n",
      "Length: 15325839041 (14G) [application/zip]\n",
      "Saving to: ‘DAiSEE.zip’\n",
      "\n",
      "DAiSEE.zip          100%[===================>]  14.27G  7.49MB/s    in 32m 56s \n",
      "\n",
      "2019-06-09 06:31:42 (7.40 MB/s) - ‘DAiSEE.zip’ saved [15325839041/15325839041]\n",
      "\n"
     ]
    }
   ],
   "source": [
    "!wget https://iith.ac.in/~daisee-dataset/dataset/DAiSEE.zip"
   ]
  },
  {
   "cell_type": "code",
   "execution_count": 4,
   "metadata": {},
   "outputs": [
    {
     "name": "stdout",
     "output_type": "stream",
     "text": [
      "Cloning into 'Action-Recognition'...\n",
      "remote: Enumerating objects: 51, done.\u001b[K\n",
      "remote: Counting objects: 100% (51/51), done.\u001b[K\n",
      "remote: Compressing objects: 100% (38/38), done.\u001b[K\n",
      "remote: Total 51 (delta 23), reused 30 (delta 11), pack-reused 0\u001b[K\n",
      "Unpacking objects: 100% (51/51), done.\n"
     ]
    }
   ],
   "source": [
    "!git clone https://github.com/eriklindernoren/Action-Recognition"
   ]
  },
  {
   "cell_type": "code",
   "execution_count": 1,
   "metadata": {},
   "outputs": [],
   "source": [
    "import os\n",
    "os.chdir('./Action-Recognition')"
   ]
  },
  {
   "cell_type": "code",
   "execution_count": 8,
   "metadata": {},
   "outputs": [
    {
     "name": "stdout",
     "output_type": "stream",
     "text": [
      "Reading package lists... Done\n",
      "Building dependency tree       \n",
      "Reading state information... Done\n",
      "The following package was automatically installed and is no longer required:\n",
      "  grub-pc-bin\n",
      "Use 'sudo apt autoremove' to remove it.\n",
      "The following additional packages will be installed:\n",
      "  libexpat1-dev libpython-dev libpython2.7-dev python2.7-dev\n",
      "The following NEW packages will be installed:\n",
      "  libexpat1-dev libpython-dev libpython2.7-dev pkg-config python-dev\n",
      "  python2.7-dev\n",
      "0 upgraded, 6 newly installed, 0 to remove and 3 not upgraded.\n",
      "Need to get 28.7 MB of archives.\n",
      "After this operation, 43.3 MB of additional disk space will be used.\n",
      "Get:1 http://us-central1.gce.archive.ubuntu.com/ubuntu bionic/main amd64 libexpat1-dev amd64 2.2.5-3 [122 kB]\n",
      "Get:2 http://us-central1.gce.archive.ubuntu.com/ubuntu bionic-updates/main amd64 libpython2.7-dev amd64 2.7.15~rc1-1ubuntu0.1 [28.3 MB]\n",
      "Get:3 http://us-central1.gce.archive.ubuntu.com/ubuntu bionic/main amd64 libpython-dev amd64 2.7.15~rc1-1 [7684 B]\n",
      "Get:4 http://us-central1.gce.archive.ubuntu.com/ubuntu bionic/main amd64 pkg-config amd64 0.29.1-0ubuntu2 [45.0 kB]\n",
      "Get:5 http://us-central1.gce.archive.ubuntu.com/ubuntu bionic-updates/main amd64 python2.7-dev amd64 2.7.15~rc1-1ubuntu0.1 [286 kB]\n",
      "Get:6 http://us-central1.gce.archive.ubuntu.com/ubuntu bionic/main amd64 python-dev amd64 2.7.15~rc1-1 [1256 B]\n",
      "Fetched 28.7 MB in 1s (54.8 MB/s)\n",
      "Selecting previously unselected package libexpat1-dev:amd64.\n",
      "(Reading database ... 188643 files and directories currently installed.)\n",
      "Preparing to unpack .../0-libexpat1-dev_2.2.5-3_amd64.deb ...\n",
      "Unpacking libexpat1-dev:amd64 (2.2.5-3) ...\n",
      "Selecting previously unselected package libpython2.7-dev:amd64.\n",
      "Preparing to unpack .../1-libpython2.7-dev_2.7.15~rc1-1ubuntu0.1_amd64.deb ...\n",
      "Unpacking libpython2.7-dev:amd64 (2.7.15~rc1-1ubuntu0.1) ...\n",
      "Selecting previously unselected package libpython-dev:amd64.\n",
      "Preparing to unpack .../2-libpython-dev_2.7.15~rc1-1_amd64.deb ...\n",
      "Unpacking libpython-dev:amd64 (2.7.15~rc1-1) ...\n",
      "Selecting previously unselected package pkg-config.\n",
      "Preparing to unpack .../3-pkg-config_0.29.1-0ubuntu2_amd64.deb ...\n",
      "Unpacking pkg-config (0.29.1-0ubuntu2) ...\n",
      "Selecting previously unselected package python2.7-dev.\n",
      "Preparing to unpack .../4-python2.7-dev_2.7.15~rc1-1ubuntu0.1_amd64.deb ...\n",
      "Unpacking python2.7-dev (2.7.15~rc1-1ubuntu0.1) ...\n",
      "Selecting previously unselected package python-dev.\n",
      "Preparing to unpack .../5-python-dev_2.7.15~rc1-1_amd64.deb ...\n",
      "Unpacking python-dev (2.7.15~rc1-1) ...\n",
      "Setting up pkg-config (0.29.1-0ubuntu2) ...\n",
      "Setting up libexpat1-dev:amd64 (2.2.5-3) ...\n",
      "Processing triggers for man-db (2.8.3-2ubuntu0.1) ...\n",
      "Setting up libpython2.7-dev:amd64 (2.7.15~rc1-1ubuntu0.1) ...\n",
      "Setting up python2.7-dev (2.7.15~rc1-1ubuntu0.1) ...\n",
      "Setting up libpython-dev:amd64 (2.7.15~rc1-1) ...\n",
      "Setting up python-dev (2.7.15~rc1-1) ...\n"
     ]
    }
   ],
   "source": [
    "!sudo apt-get install -y python-dev pkg-config"
   ]
  },
  {
   "cell_type": "code",
   "execution_count": 9,
   "metadata": {},
   "outputs": [
    {
     "name": "stdout",
     "output_type": "stream",
     "text": [
      "Reading package lists... Done\n",
      "Building dependency tree       \n",
      "Reading state information... Done\n",
      "The following package was automatically installed and is no longer required:\n",
      "  grub-pc-bin\n",
      "Use 'sudo apt autoremove' to remove it.\n",
      "The following additional packages will be installed:\n",
      "  libass9 libavdevice57 libavfilter6 libavresample-dev libavresample3 libbs2b0\n",
      "  libflite1 libmysofa0 libopenal-data libopenal1 libpostproc-dev libpostproc54\n",
      "  librubberband2 libsdl2-2.0-0 libsndio6.1\n",
      "Suggested packages:\n",
      "  libportaudio2 sndiod\n",
      "The following NEW packages will be installed:\n",
      "  libass9 libavcodec-dev libavdevice-dev libavdevice57 libavfilter-dev\n",
      "  libavfilter6 libavformat-dev libavresample-dev libavresample3 libavutil-dev\n",
      "  libbs2b0 libflite1 libmysofa0 libopenal-data libopenal1 libpostproc-dev\n",
      "  libpostproc54 librubberband2 libsdl2-2.0-0 libsndio6.1 libswresample-dev\n",
      "  libswscale-dev\n",
      "0 upgraded, 22 newly installed, 0 to remove and 3 not upgraded.\n",
      "Need to get 22.8 MB of archives.\n",
      "After this operation, 68.1 MB of additional disk space will be used.\n",
      "Get:1 http://us-central1.gce.archive.ubuntu.com/ubuntu bionic/universe amd64 libass9 amd64 1:0.14.0-1 [88.2 kB]\n",
      "Get:2 http://us-central1.gce.archive.ubuntu.com/ubuntu bionic-updates/universe amd64 libavutil-dev amd64 7:3.4.6-0ubuntu0.18.04.1 [294 kB]\n",
      "Get:3 http://us-central1.gce.archive.ubuntu.com/ubuntu bionic-updates/universe amd64 libswresample-dev amd64 7:3.4.6-0ubuntu0.18.04.1 [68.7 kB]\n",
      "Get:4 http://us-central1.gce.archive.ubuntu.com/ubuntu bionic-updates/universe amd64 libavcodec-dev amd64 7:3.4.6-0ubuntu0.18.04.1 [5076 kB]\n",
      "Get:5 http://us-central1.gce.archive.ubuntu.com/ubuntu bionic-updates/universe amd64 libavresample3 amd64 7:3.4.6-0ubuntu0.18.04.1 [52.6 kB]\n",
      "Get:6 http://us-central1.gce.archive.ubuntu.com/ubuntu bionic/universe amd64 libbs2b0 amd64 3.1.0+dfsg-2.2 [10.5 kB]\n",
      "Get:7 http://us-central1.gce.archive.ubuntu.com/ubuntu bionic/universe amd64 libflite1 amd64 2.1-release-1 [12.8 MB]\n",
      "Get:8 http://us-central1.gce.archive.ubuntu.com/ubuntu bionic/universe amd64 libmysofa0 amd64 0.6~dfsg0-2 [37.8 kB]\n",
      "Get:9 http://us-central1.gce.archive.ubuntu.com/ubuntu bionic-updates/universe amd64 libpostproc54 amd64 7:3.4.6-0ubuntu0.18.04.1 [50.4 kB]\n",
      "Get:10 http://us-central1.gce.archive.ubuntu.com/ubuntu bionic/universe amd64 librubberband2 amd64 1.8.1-7ubuntu2 [86.7 kB]\n",
      "Get:11 http://us-central1.gce.archive.ubuntu.com/ubuntu bionic-updates/universe amd64 libavfilter6 amd64 7:3.4.6-0ubuntu0.18.04.1 [874 kB]\n",
      "Get:12 http://us-central1.gce.archive.ubuntu.com/ubuntu bionic/universe amd64 libopenal-data all 1:1.18.2-2 [102 kB]\n",
      "Get:13 http://us-central1.gce.archive.ubuntu.com/ubuntu bionic/universe amd64 libsndio6.1 amd64 1.1.0-3 [23.4 kB]\n",
      "Get:14 http://us-central1.gce.archive.ubuntu.com/ubuntu bionic/universe amd64 libopenal1 amd64 1:1.18.2-2 [266 kB]\n",
      "Get:15 http://us-central1.gce.archive.ubuntu.com/ubuntu bionic-updates/universe amd64 libsdl2-2.0-0 amd64 2.0.8+dfsg1-1ubuntu1.18.04.3 [381 kB]\n",
      "Get:16 http://us-central1.gce.archive.ubuntu.com/ubuntu bionic-updates/universe amd64 libavdevice57 amd64 7:3.4.6-0ubuntu0.18.04.1 [75.1 kB]\n",
      "Get:17 http://us-central1.gce.archive.ubuntu.com/ubuntu bionic-updates/universe amd64 libavformat-dev amd64 7:3.4.6-0ubuntu0.18.04.1 [1128 kB]\n",
      "Get:18 http://us-central1.gce.archive.ubuntu.com/ubuntu bionic-updates/universe amd64 libavresample-dev amd64 7:3.4.6-0ubuntu0.18.04.1 [62.1 kB]\n",
      "Get:19 http://us-central1.gce.archive.ubuntu.com/ubuntu bionic-updates/universe amd64 libpostproc-dev amd64 7:3.4.6-0ubuntu0.18.04.1 [51.0 kB]\n",
      "Get:20 http://us-central1.gce.archive.ubuntu.com/ubuntu bionic-updates/universe amd64 libswscale-dev amd64 7:3.4.6-0ubuntu0.18.04.1 [166 kB]\n",
      "Get:21 http://us-central1.gce.archive.ubuntu.com/ubuntu bionic-updates/universe amd64 libavfilter-dev amd64 7:3.4.6-0ubuntu0.18.04.1 [1016 kB]\n",
      "Get:22 http://us-central1.gce.archive.ubuntu.com/ubuntu bionic-updates/universe amd64 libavdevice-dev amd64 7:3.4.6-0ubuntu0.18.04.1 [87.2 kB]\n",
      "Fetched 22.8 MB in 1s (26.0 MB/s)         \n",
      "Selecting previously unselected package libass9:amd64.\n",
      "(Reading database ... 188817 files and directories currently installed.)\n",
      "Preparing to unpack .../00-libass9_1%3a0.14.0-1_amd64.deb ...\n",
      "Unpacking libass9:amd64 (1:0.14.0-1) ...\n",
      "Selecting previously unselected package libavutil-dev:amd64.\n",
      "Preparing to unpack .../01-libavutil-dev_7%3a3.4.6-0ubuntu0.18.04.1_amd64.deb ...\n",
      "Unpacking libavutil-dev:amd64 (7:3.4.6-0ubuntu0.18.04.1) ...\n",
      "Selecting previously unselected package libswresample-dev:amd64.\n",
      "Preparing to unpack .../02-libswresample-dev_7%3a3.4.6-0ubuntu0.18.04.1_amd64.deb ...\n",
      "Unpacking libswresample-dev:amd64 (7:3.4.6-0ubuntu0.18.04.1) ...\n",
      "Selecting previously unselected package libavcodec-dev:amd64.\n",
      "Preparing to unpack .../03-libavcodec-dev_7%3a3.4.6-0ubuntu0.18.04.1_amd64.deb ...\n",
      "Unpacking libavcodec-dev:amd64 (7:3.4.6-0ubuntu0.18.04.1) ...\n",
      "Selecting previously unselected package libavresample3:amd64.\n",
      "Preparing to unpack .../04-libavresample3_7%3a3.4.6-0ubuntu0.18.04.1_amd64.deb ...\n",
      "Unpacking libavresample3:amd64 (7:3.4.6-0ubuntu0.18.04.1) ...\n",
      "Selecting previously unselected package libbs2b0:amd64.\n",
      "Preparing to unpack .../05-libbs2b0_3.1.0+dfsg-2.2_amd64.deb ...\n",
      "Unpacking libbs2b0:amd64 (3.1.0+dfsg-2.2) ...\n",
      "Selecting previously unselected package libflite1:amd64.\n",
      "Preparing to unpack .../06-libflite1_2.1-release-1_amd64.deb ...\n",
      "Unpacking libflite1:amd64 (2.1-release-1) ...\n",
      "Selecting previously unselected package libmysofa0:amd64.\n",
      "Preparing to unpack .../07-libmysofa0_0.6~dfsg0-2_amd64.deb ...\n",
      "Unpacking libmysofa0:amd64 (0.6~dfsg0-2) ...\n",
      "Selecting previously unselected package libpostproc54:amd64.\n",
      "Preparing to unpack .../08-libpostproc54_7%3a3.4.6-0ubuntu0.18.04.1_amd64.deb ...\n",
      "Unpacking libpostproc54:amd64 (7:3.4.6-0ubuntu0.18.04.1) ...\n",
      "Selecting previously unselected package librubberband2:amd64.\n",
      "Preparing to unpack .../09-librubberband2_1.8.1-7ubuntu2_amd64.deb ...\n",
      "Unpacking librubberband2:amd64 (1.8.1-7ubuntu2) ...\n",
      "Selecting previously unselected package libavfilter6:amd64.\n",
      "Preparing to unpack .../10-libavfilter6_7%3a3.4.6-0ubuntu0.18.04.1_amd64.deb ...\n",
      "Unpacking libavfilter6:amd64 (7:3.4.6-0ubuntu0.18.04.1) ...\n",
      "Selecting previously unselected package libopenal-data.\n",
      "Preparing to unpack .../11-libopenal-data_1%3a1.18.2-2_all.deb ...\n",
      "Unpacking libopenal-data (1:1.18.2-2) ...\n",
      "Selecting previously unselected package libsndio6.1:amd64.\n",
      "Preparing to unpack .../12-libsndio6.1_1.1.0-3_amd64.deb ...\n",
      "Unpacking libsndio6.1:amd64 (1.1.0-3) ...\n",
      "Selecting previously unselected package libopenal1:amd64.\n",
      "Preparing to unpack .../13-libopenal1_1%3a1.18.2-2_amd64.deb ...\n",
      "Unpacking libopenal1:amd64 (1:1.18.2-2) ...\n",
      "Selecting previously unselected package libsdl2-2.0-0:amd64.\n",
      "Preparing to unpack .../14-libsdl2-2.0-0_2.0.8+dfsg1-1ubuntu1.18.04.3_amd64.deb ...\n",
      "Unpacking libsdl2-2.0-0:amd64 (2.0.8+dfsg1-1ubuntu1.18.04.3) ...\n",
      "Selecting previously unselected package libavdevice57:amd64.\n",
      "Preparing to unpack .../15-libavdevice57_7%3a3.4.6-0ubuntu0.18.04.1_amd64.deb ...\n",
      "Unpacking libavdevice57:amd64 (7:3.4.6-0ubuntu0.18.04.1) ...\n",
      "Selecting previously unselected package libavformat-dev:amd64.\n",
      "Preparing to unpack .../16-libavformat-dev_7%3a3.4.6-0ubuntu0.18.04.1_amd64.deb ...\n",
      "Unpacking libavformat-dev:amd64 (7:3.4.6-0ubuntu0.18.04.1) ...\n",
      "Selecting previously unselected package libavresample-dev:amd64.\n",
      "Preparing to unpack .../17-libavresample-dev_7%3a3.4.6-0ubuntu0.18.04.1_amd64.deb ...\n",
      "Unpacking libavresample-dev:amd64 (7:3.4.6-0ubuntu0.18.04.1) ...\n",
      "Selecting previously unselected package libpostproc-dev:amd64.\n",
      "Preparing to unpack .../18-libpostproc-dev_7%3a3.4.6-0ubuntu0.18.04.1_amd64.deb ...\n",
      "Unpacking libpostproc-dev:amd64 (7:3.4.6-0ubuntu0.18.04.1) ...\n",
      "Selecting previously unselected package libswscale-dev:amd64.\n",
      "Preparing to unpack .../19-libswscale-dev_7%3a3.4.6-0ubuntu0.18.04.1_amd64.deb ...\n",
      "Unpacking libswscale-dev:amd64 (7:3.4.6-0ubuntu0.18.04.1) ...\n",
      "Selecting previously unselected package libavfilter-dev:amd64.\n",
      "Preparing to unpack .../20-libavfilter-dev_7%3a3.4.6-0ubuntu0.18.04.1_amd64.deb ...\n",
      "Unpacking libavfilter-dev:amd64 (7:3.4.6-0ubuntu0.18.04.1) ...\n",
      "Selecting previously unselected package libavdevice-dev:amd64.\n",
      "Preparing to unpack .../21-libavdevice-dev_7%3a3.4.6-0ubuntu0.18.04.1_amd64.deb ...\n"
     ]
    },
    {
     "name": "stdout",
     "output_type": "stream",
     "text": [
      "Unpacking libavdevice-dev:amd64 (7:3.4.6-0ubuntu0.18.04.1) ...\n",
      "Setting up libavutil-dev:amd64 (7:3.4.6-0ubuntu0.18.04.1) ...\n",
      "Setting up libavresample3:amd64 (7:3.4.6-0ubuntu0.18.04.1) ...\n",
      "Setting up libflite1:amd64 (2.1-release-1) ...\n",
      "Setting up libavresample-dev:amd64 (7:3.4.6-0ubuntu0.18.04.1) ...\n",
      "Setting up libass9:amd64 (1:0.14.0-1) ...\n",
      "Setting up libswscale-dev:amd64 (7:3.4.6-0ubuntu0.18.04.1) ...\n",
      "Setting up libopenal-data (1:1.18.2-2) ...\n",
      "Setting up libbs2b0:amd64 (3.1.0+dfsg-2.2) ...\n",
      "Processing triggers for libc-bin (2.27-3ubuntu1) ...\n",
      "Setting up librubberband2:amd64 (1.8.1-7ubuntu2) ...\n",
      "Setting up libswresample-dev:amd64 (7:3.4.6-0ubuntu0.18.04.1) ...\n",
      "Setting up libpostproc54:amd64 (7:3.4.6-0ubuntu0.18.04.1) ...\n",
      "Setting up libsndio6.1:amd64 (1.1.0-3) ...\n",
      "Setting up libmysofa0:amd64 (0.6~dfsg0-2) ...\n",
      "Setting up libavfilter6:amd64 (7:3.4.6-0ubuntu0.18.04.1) ...\n",
      "Setting up libavcodec-dev:amd64 (7:3.4.6-0ubuntu0.18.04.1) ...\n",
      "Setting up libpostproc-dev:amd64 (7:3.4.6-0ubuntu0.18.04.1) ...\n",
      "Setting up libsdl2-2.0-0:amd64 (2.0.8+dfsg1-1ubuntu1.18.04.3) ...\n",
      "Setting up libavformat-dev:amd64 (7:3.4.6-0ubuntu0.18.04.1) ...\n",
      "Setting up libopenal1:amd64 (1:1.18.2-2) ...\n",
      "Setting up libavdevice57:amd64 (7:3.4.6-0ubuntu0.18.04.1) ...\n",
      "Setting up libavfilter-dev:amd64 (7:3.4.6-0ubuntu0.18.04.1) ...\n",
      "Setting up libavdevice-dev:amd64 (7:3.4.6-0ubuntu0.18.04.1) ...\n",
      "Processing triggers for libc-bin (2.27-3ubuntu1) ...\n"
     ]
    }
   ],
   "source": [
    "!sudo apt-get install -y \\\n",
    "    libavformat-dev libavcodec-dev libavdevice-dev \\\n",
    "    libavutil-dev libswscale-dev libswresample-dev libavfilter-dev"
   ]
  },
  {
   "cell_type": "code",
   "execution_count": 2,
   "metadata": {},
   "outputs": [
    {
     "name": "stdout",
     "output_type": "stream",
     "text": [
      "Requirement already satisfied: av in /home/sanjaymoto75/anaconda3/lib/python3.7/site-packages (6.2.0)\r\n"
     ]
    }
   ],
   "source": [
    "!pip install av\n",
    "import av\n",
    "import glob\n",
    "import os\n",
    "import time\n",
    "import tqdm\n",
    "import datetime\n",
    "import argparse"
   ]
  },
  {
   "cell_type": "code",
   "execution_count": 3,
   "metadata": {},
   "outputs": [],
   "source": [
    "def extract_frames(video_path):\n",
    "    frames = []\n",
    "    video = av.open(video_path)\n",
    "    for frame in video.decode(0):\n",
    "        yield frame.to_image()\n"
   ]
  },
  {
   "cell_type": "code",
   "execution_count": 12,
   "metadata": {},
   "outputs": [
    {
     "data": {
      "text/plain": [
       "'/home/sanjaymoto75/attention/Action-Recognition'"
      ]
     },
     "execution_count": 12,
     "metadata": {},
     "output_type": "execute_result"
    }
   ],
   "source": [
    "os.getcwd()"
   ]
  },
  {
   "cell_type": "code",
   "execution_count": 4,
   "metadata": {},
   "outputs": [
    {
     "name": "stderr",
     "output_type": "stream",
     "text": [
      "/home/sanjaymoto75/anaconda3/lib/python3.7/site-packages/tqdm/autonotebook/__init__.py:14: TqdmExperimentalWarning: Using `tqdm.autonotebook.tqdm` in notebook mode. Use `tqdm.tqdm` instead to force console mode (e.g. in jupyter console)\n",
      "  \" (e.g. in jupyter console)\", TqdmExperimentalWarning)\n"
     ]
    },
    {
     "data": {
      "application/vnd.jupyter.widget-view+json": {
       "model_id": "b8e85e74b3604e329ae40a160087e616",
       "version_major": 2,
       "version_minor": 0
      },
      "text/plain": [
       "HBox(children=(IntProgress(value=0, max=70), HTML(value='')))"
      ]
     },
     "metadata": {},
     "output_type": "display_data"
    },
    {
     "name": "stdout",
     "output_type": "stream",
     "text": [
      "\n"
     ]
    }
   ],
   "source": [
    "data = '/home/sanjaymoto75/attention/DAiSEE/DataSet/Train'\n",
    "result = '/home/sanjaymoto75/attention/frames/train'\n",
    "from tqdm.autonotebook import tqdm\n",
    "p1 = os.listdir(data)\n",
    "for i in tqdm(p1):\n",
    "    p2 = os.path.join(data,i)\n",
    "    p2_list = os.listdir(p2)\n",
    "    r2 = os.path.join(result,i)\n",
    "    if os.path.exists(r2):\n",
    "            continue\n",
    "    os.makedirs(r2, exist_ok=True)\n",
    "    for j in p2_list:\n",
    "        p3 = os.path.join(p2,j)\n",
    "        p3 = os.path.join(p3,os.listdir(p3)[0])\n",
    "        r3 = os.path.join(r2,j)\n",
    "        os.makedirs(r3, exist_ok=True)\n",
    "        for j, frame in enumerate((extract_frames(p3))):\n",
    "            frame.save(os.path.join(r3, f\"{j}.jpg\"))"
   ]
  }
 ],
 "metadata": {
  "kernelspec": {
   "display_name": "Python 3",
   "language": "python",
   "name": "python3"
  },
  "language_info": {
   "codemirror_mode": {
    "name": "ipython",
    "version": 3
   },
   "file_extension": ".py",
   "mimetype": "text/x-python",
   "name": "python",
   "nbconvert_exporter": "python",
   "pygments_lexer": "ipython3",
   "version": "3.7.3"
  }
 },
 "nbformat": 4,
 "nbformat_minor": 2
}
