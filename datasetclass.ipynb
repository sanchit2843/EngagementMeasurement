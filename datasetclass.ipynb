{
 "cells": [
  {
   "cell_type": "code",
   "execution_count": 114,
   "metadata": {},
   "outputs": [],
   "source": [
    "import torchvision\n",
    "import torch\n",
    "from torch import nn\n",
    "import torch.nn.functional as F\n",
    "import torchvision.models as models\n",
    "import torch.optim as optim\n",
    "import copy\n",
    "import os\n",
    "import torch\n",
    "from tqdm.autonotebook import tqdm\n",
    "from torch.optim.lr_scheduler import _LRScheduler\n",
    "import matplotlib.pyplot as plt\n",
    "from PIL import Image\n",
    "from torch.utils.data import Dataset"
   ]
  },
  {
   "cell_type": "code",
   "execution_count": 180,
   "metadata": {
    "scrolled": true
   },
   "outputs": [
    {
     "data": {
      "text/html": [
       "<div>\n",
       "<style scoped>\n",
       "    .dataframe tbody tr th:only-of-type {\n",
       "        vertical-align: middle;\n",
       "    }\n",
       "\n",
       "    .dataframe tbody tr th {\n",
       "        vertical-align: top;\n",
       "    }\n",
       "\n",
       "    .dataframe thead th {\n",
       "        text-align: right;\n",
       "    }\n",
       "</style>\n",
       "<table border=\"1\" class=\"dataframe\">\n",
       "  <thead>\n",
       "    <tr style=\"text-align: right;\">\n",
       "      <th></th>\n",
       "      <th>ClipID</th>\n",
       "      <th>Boredom</th>\n",
       "      <th>Engagement</th>\n",
       "      <th>Confusion</th>\n",
       "      <th>Frustration</th>\n",
       "    </tr>\n",
       "  </thead>\n",
       "  <tbody>\n",
       "    <tr>\n",
       "      <th>0</th>\n",
       "      <td>4000221001.avi</td>\n",
       "      <td>0</td>\n",
       "      <td>2</td>\n",
       "      <td>0</td>\n",
       "      <td>0</td>\n",
       "    </tr>\n",
       "    <tr>\n",
       "      <th>1</th>\n",
       "      <td>4000221002.avi</td>\n",
       "      <td>1</td>\n",
       "      <td>3</td>\n",
       "      <td>0</td>\n",
       "      <td>0</td>\n",
       "    </tr>\n",
       "    <tr>\n",
       "      <th>2</th>\n",
       "      <td>4000221006.avi</td>\n",
       "      <td>1</td>\n",
       "      <td>2</td>\n",
       "      <td>0</td>\n",
       "      <td>0</td>\n",
       "    </tr>\n",
       "    <tr>\n",
       "      <th>3</th>\n",
       "      <td>4000221008.avi</td>\n",
       "      <td>0</td>\n",
       "      <td>3</td>\n",
       "      <td>0</td>\n",
       "      <td>0</td>\n",
       "    </tr>\n",
       "    <tr>\n",
       "      <th>4</th>\n",
       "      <td>4000221009.avi</td>\n",
       "      <td>2</td>\n",
       "      <td>2</td>\n",
       "      <td>0</td>\n",
       "      <td>0</td>\n",
       "    </tr>\n",
       "    <tr>\n",
       "      <th>5</th>\n",
       "      <td>4000221010.avi</td>\n",
       "      <td>2</td>\n",
       "      <td>2</td>\n",
       "      <td>1</td>\n",
       "      <td>1</td>\n",
       "    </tr>\n",
       "    <tr>\n",
       "      <th>6</th>\n",
       "      <td>4000221011.avi</td>\n",
       "      <td>2</td>\n",
       "      <td>2</td>\n",
       "      <td>1</td>\n",
       "      <td>0</td>\n",
       "    </tr>\n",
       "    <tr>\n",
       "      <th>7</th>\n",
       "      <td>4000221013.avi</td>\n",
       "      <td>3</td>\n",
       "      <td>2</td>\n",
       "      <td>0</td>\n",
       "      <td>0</td>\n",
       "    </tr>\n",
       "    <tr>\n",
       "      <th>8</th>\n",
       "      <td>4000221014.avi</td>\n",
       "      <td>2</td>\n",
       "      <td>2</td>\n",
       "      <td>0</td>\n",
       "      <td>1</td>\n",
       "    </tr>\n",
       "    <tr>\n",
       "      <th>9</th>\n",
       "      <td>4000221015.avi</td>\n",
       "      <td>3</td>\n",
       "      <td>2</td>\n",
       "      <td>3</td>\n",
       "      <td>0</td>\n",
       "    </tr>\n",
       "  </tbody>\n",
       "</table>\n",
       "</div>"
      ],
      "text/plain": [
       "           ClipID  Boredom  Engagement  Confusion  Frustration \n",
       "0  4000221001.avi        0           2          0             0\n",
       "1  4000221002.avi        1           3          0             0\n",
       "2  4000221006.avi        1           2          0             0\n",
       "3  4000221008.avi        0           3          0             0\n",
       "4  4000221009.avi        2           2          0             0\n",
       "5  4000221010.avi        2           2          1             1\n",
       "6  4000221011.avi        2           2          1             0\n",
       "7  4000221013.avi        3           2          0             0\n",
       "8  4000221014.avi        2           2          0             1\n",
       "9  4000221015.avi        3           2          3             0"
      ]
     },
     "execution_count": 180,
     "metadata": {},
     "output_type": "execute_result"
    }
   ],
   "source": [
    "import pandas as pd\n",
    "train_label = pd.read_csv('./TrainLabels.csv')\n",
    "valid_label = pd.read_csv('./DAiSEE/Labels/ValidationLabels.csv')\n",
    "valid_label.head(10)"
   ]
  },
  {
   "cell_type": "code",
   "execution_count": 116,
   "metadata": {},
   "outputs": [],
   "source": [
    "import torch\n",
    "import torchvision\n",
    "from torchvision import transforms\n",
    "from torch.utils.data import DataLoader\n",
    "from torch.utils.data.dataset import Dataset\n",
    "import os\n",
    "from tqdm.autonotebook import tqdm\n",
    "import numpy as np\n",
    "from torch.utils.data.sampler import SubsetRandomSampler\n",
    "import cv2\n",
    "import sys\n",
    "im_size = 224\n",
    "train_transforms = transforms.Compose([\n",
    "                                        transforms.ToPILImage(),\n",
    "                                        transforms.Resize((im_size,im_size)),\n",
    "                                        transforms.ToTensor()])"
   ]
  },
  {
   "cell_type": "code",
   "execution_count": 117,
   "metadata": {},
   "outputs": [],
   "source": [
    "class video_dataset(Dataset):\n",
    "    def __init__(self,frame_dir,train_csv,sequencelength = 60,skip_length = 5,transform = None):\n",
    "        self.folder = os.listdir(frame_dir)\n",
    "        self.id = train_csv['ClipID']\n",
    "        self.engagement = train_csv['Engagement']\n",
    "        self.frame_dir = frame_dir\n",
    "        self.transform = transform\n",
    "        self.not_exist = list()\n",
    "    def __len__(self):\n",
    "        return len(self.id)\n",
    "    def __getitem__(self,idx):\n",
    "        id_1 = self.id[idx][:6]\n",
    "        path1 = os.path.join(self.frame_dir,id_1)\n",
    "        id_2 = self.id[idx][:-4]\n",
    "        path2 = os.path.join(path1,id_2)\n",
    "        seq_image = list()\n",
    "        i = 0\n",
    "        while i<300:\n",
    "            path3 = os.path.join(path2,str(i)+'.jpg')\n",
    "            image = cv2.imread(path3)\n",
    "            if(self.transform):\n",
    "                image = self.transform(image)\n",
    "            seq_image.append(image)\n",
    "            i = i+5\n",
    "        seq_image = torch.stack(seq_image)\n",
    "        label = self.engagement[idx]\n",
    "        seq_image = seq_image.reshape(3,60,im_size,im_size)\n",
    "        return seq_image,label"
   ]
  },
  {
   "cell_type": "code",
   "execution_count": 167,
   "metadata": {},
   "outputs": [],
   "source": [
    "mean = [0.4889, 0.4887, 0.4891, 0.4888, 0.4891, 0.4887, 0.4891, 0.4887, 0.4891,\n",
    "        0.4888, 0.4891, 0.4887, 0.4889, 0.4887, 0.4891, 0.4887, 0.4891, 0.4887,\n",
    "        0.4891, 0.4887, 0.4891, 0.4888, 0.4891, 0.4887, 0.4888, 0.4887, 0.4891,\n",
    "        0.4887, 0.4891, 0.4887, 0.4891, 0.4888, 0.4891, 0.4888, 0.4891, 0.4887,\n",
    "        0.4889, 0.4887, 0.4892, 0.4888, 0.4891, 0.4887, 0.4891, 0.4888, 0.4891,\n",
    "        0.4888, 0.4891, 0.4887, 0.4889, 0.4887, 0.4891, 0.4887, 0.4891, 0.4886,\n",
    "        0.4890, 0.4887, 0.4891, 0.4888, 0.4891, 0.4888]"
   ]
  },
  {
   "cell_type": "code",
   "execution_count": 169,
   "metadata": {},
   "outputs": [],
   "source": [
    "std = [0.2074, 0.2074, 0.2074, 0.2074, 0.2074, 0.2074, 0.2074, 0.2074, 0.2074,\n",
    "        0.2074, 0.2074, 0.2074, 0.2074, 0.2073, 0.2074, 0.2074, 0.2073, 0.2074,\n",
    "        0.2073, 0.2073, 0.2073, 0.2074, 0.2074, 0.2074, 0.2073, 0.2073, 0.2074,\n",
    "        0.2074, 0.2074, 0.2074, 0.2074, 0.2074, 0.2074, 0.2074, 0.2074, 0.2074,\n",
    "        0.2074, 0.2074, 0.2074, 0.2074, 0.2074, 0.2074, 0.2074, 0.2074, 0.2074,\n",
    "        0.2074, 0.2074, 0.2074, 0.2074, 0.2074, 0.2074, 0.2074, 0.2074, 0.2074,\n",
    "        0.2073, 0.2074, 0.2074, 0.2074, 0.2074, 0.2074]"
   ]
  },
  {
   "cell_type": "code",
   "execution_count": 181,
   "metadata": {},
   "outputs": [],
   "source": [
    "train_transforms = transforms.Compose([\n",
    "                                        transforms.ToPILImage(),\n",
    "                                        transforms.Resize((im_size,im_size)),\n",
    "                                        transforms.RandomRotation(degrees=10),\n",
    "                                        transforms.ToTensor()])\n",
    "test_transforms = transforms.Compose([\n",
    "                                        transforms.ToPILImage(),\n",
    "                                        transforms.Resize((im_size,im_size)),\n",
    "                                        #transforms.RandomRotation(degrees=10),\n",
    "                                        transforms.ToTensor()])\n",
    "train_data = video_dataset('./frames/train',train_label,transform = train_transforms)\n",
    "val_data = video_dataset('./frames/val',valid_label,transform = test_transforms)\n",
    "train_loader = DataLoader(train_data,batch_size = 4,num_workers = 4 ,shuffle = True)\n",
    "valid_loader = DataLoader(val_data,batch_size = 4,num_workers = 4 ,shuffle = True)\n",
    "dataloaders = {'train':train_loader,'val':valid_loader}"
   ]
  },
  {
   "cell_type": "code",
   "execution_count": 123,
   "metadata": {},
   "outputs": [],
   "source": [
    "import torch\n",
    "import torch.nn as nn\n",
    "import torch.nn.functional as F\n",
    "from collections import OrderedDict\n",
    "\n",
    "__all__ = ['DenseNet', 'densenet121', 'densenet161'] # with DropOut\n",
    "\n",
    "class _DenseLayer(nn.Sequential):\n",
    "    def __init__(self, num_input_features, growth_rate, bn_size, drop_rate):\n",
    "        super(_DenseLayer, self).__init__()\n",
    "        self.add_module('norm1', nn.BatchNorm3d(num_input_features)),\n",
    "        self.add_module('relu1', nn.ReLU(inplace=True)),\n",
    "        self.add_module('conv1', nn.Conv3d(num_input_features, bn_size *\n",
    "                        growth_rate, kernel_size=1, stride=1, bias=False)),\n",
    "        self.add_module('norm2', nn.BatchNorm3d(bn_size * growth_rate)),\n",
    "        self.add_module('relu2', nn.ReLU(inplace=True)),\n",
    "        self.add_module('conv2', nn.Conv3d(bn_size * growth_rate, growth_rate,\n",
    "                        kernel_size=3, stride=1, padding=1, bias=False)),\n",
    "        self.drop_rate = drop_rate\n",
    "\n",
    "    def forward(self, x):\n",
    "        new_features = super(_DenseLayer, self).forward(x)\n",
    "        if self.drop_rate > 0:\n",
    "            new_features = F.dropout(new_features, p=self.drop_rate, training=self.training)\n",
    "        return torch.cat([x, new_features], 1)\n",
    "\n",
    "\n",
    "class _DenseBlock(nn.Sequential):\n",
    "    def __init__(self, num_layers, num_input_features, bn_size, growth_rate, drop_rate):\n",
    "        super(_DenseBlock, self).__init__()\n",
    "        for i in range(num_layers):\n",
    "            layer = _DenseLayer(num_input_features + i * growth_rate, growth_rate, bn_size, drop_rate)\n",
    "            self.add_module('denselayer%d' % (i + 1), layer)\n",
    "\n",
    "\n",
    "class _Transition(nn.Sequential):\n",
    "    def __init__(self, num_input_features, num_output_features):\n",
    "        super(_Transition, self).__init__()\n",
    "        self.add_module('norm', nn.BatchNorm3d(num_input_features))\n",
    "        self.add_module('relu', nn.ReLU(inplace=True))\n",
    "        self.add_module('conv', nn.Conv3d(num_input_features, num_output_features,\n",
    "                                          kernel_size=1, stride=1, bias=False))\n",
    "        self.add_module('pool', nn.AvgPool3d(kernel_size=2, stride=2))\n",
    "\n",
    "\n",
    "class DenseNet3D(nn.Module):\n",
    "    r\"\"\"Densenet-BC model class, based on\n",
    "    `\"Densely Connected Convolutional Networks\" <https://arxiv.org/pdf/1608.06993.pdf>`\n",
    "    Args:\n",
    "        growth_rate (int) - how many filters to add each layer (`k` in paper)\n",
    "        block_config (list of 4 ints) - how many layers in each pooling block\n",
    "        num_init_features (int) - the number of filters to learn in the first convolution layer\n",
    "        bn_size (int) - multiplicative factor for number of bottle neck layers\n",
    "          (i.e. bn_size * k features in the bottleneck layer)\n",
    "        drop_rate (float) - dropout rate after each dense layer\n",
    "        num_classes (int) - number of classification classes\n",
    "    \"\"\"\n",
    "    def __init__(self, growth_rate=32, block_config=(6, 12, 24, 16),\n",
    "                 num_init_features=64, bn_size=4, drop_rate=0, num_classes=1000):\n",
    "\n",
    "        super(DenseNet3D, self).__init__()\n",
    "\n",
    "        # First convolution\n",
    "        self.features = nn.Sequential(OrderedDict([\n",
    "            ('conv0', nn.Conv3d(3, num_init_features, kernel_size=(3, 7, 7), stride=2, padding=(1, 3, 3), bias=False)),\n",
    "            ('norm0', nn.BatchNorm3d(num_init_features)),\n",
    "            ('relu0', nn.ReLU(inplace=True)),\n",
    "            ('pool0', nn.MaxPool3d(kernel_size=3, stride=2, padding=1)),\n",
    "        ]))\n",
    "\n",
    "        # Each denseblock\n",
    "        num_features = num_init_features\n",
    "        for i, num_layers in enumerate(block_config):\n",
    "            block = _DenseBlock(num_layers=num_layers, num_input_features=num_features,\n",
    "                                bn_size=bn_size, growth_rate=growth_rate, drop_rate=drop_rate)\n",
    "            self.features.add_module('denseblock%d' % (i + 1), block)\n",
    "            num_features = num_features + num_layers * growth_rate\n",
    "            if i != len(block_config) - 1:\n",
    "                trans = _Transition(num_input_features=num_features, num_output_features=num_features // 2)\n",
    "                self.features.add_module('transition%d' % (i + 1), trans)\n",
    "                num_features = num_features // 2\n",
    "\n",
    "        # Final batch norm\n",
    "        self.features.add_module('norm5', nn.BatchNorm3d(num_features))\n",
    "        # Linear layer\n",
    "        self.linear = nn.Linear(2048, 512)\n",
    "        self.elu = nn.ELU()\n",
    "        self.out = nn.Linear(512, 4)\n",
    "        self.dropout1 = nn.Dropout(0.2)\n",
    "        self.dropout2 = nn.Dropout(0.2)\n",
    "\n",
    "    def forward(self, x):\n",
    "        features = self.features(x)\n",
    "        out = F.relu(features, inplace=True)\n",
    "        avg_pool = nn.functional.adaptive_avg_pool3d(out, output_size = 1)\n",
    "        max_pool = nn.functional.adaptive_max_pool3d(out, output_size = 1)\n",
    "        out = torch.cat((avg_pool,max_pool),1)\n",
    "        batch = out.shape[0]\n",
    "        out = out.view(batch, -1)\n",
    "        conc = self.elu(self.linear(self.dropout1(out)))\n",
    "        res = self.out(self.dropout2(conc))\n",
    "        #out = F.avg_pool3d(out, kernel_size=(1,7,7)).view(features.size(0), -1)\n",
    "        return res\n",
    "\n",
    "\n",
    "def densenet121_3D():\n",
    "    model = DenseNet3D(num_init_features=64, growth_rate=32, block_config=(6, 12, 24, 16))\n",
    "    return model\n",
    "\n",
    "\n",
    "def densenet121_3D_DropOut():\n",
    "    model = DenseNet3D(num_init_features=64, growth_rate=32, block_config=(6, 12, 24, 16), drop_rate=0.2)\n",
    "    return model\n",
    "\n",
    "\n",
    "def densenet169_3D():\n",
    "    model = DenseNet3D(num_init_features=64, growth_rate=32, block_config=(6, 12, 32, 32))\n",
    "    return model\n",
    "\n",
    "\n",
    "# the below model has the lowest Top-1 error in ImageNet Data Set:\n",
    "def densenet161_3D():\n",
    "    model = DenseNet3D(num_init_features=96, growth_rate=48, block_config=(6, 12, 36, 24))\n",
    "    return model\n",
    "\n",
    "\n",
    "# the below model has the lowest Top-1 error in ImageNet Data Set:\n",
    "def densenet161_3D_DropOut():\n",
    "    model = DenseNet3D(num_init_features=96, growth_rate=48, block_config=(6, 12, 36, 24), drop_rate=0.2)\n",
    "    return model\n",
    "\n",
    "\n",
    "def densenet201_3D():\n",
    "    model = DenseNet3D(num_init_features=64, growth_rate=32, block_config=(6, 12, 48, 32))\n",
    "    return model\n",
    "\n",
    "\n",
    "def densenet121(**kwargs):\n",
    "    \"\"\"Constructs a DenseNet-121_DropOut model.\n",
    "    \"\"\"\n",
    "    model = DenseNet3D(num_init_features=64, growth_rate=32, block_config=(6, 12, 24, 16), drop_rate=0.2, **kwargs)\n",
    "    return model\n",
    "\n",
    "\n",
    "def densenet161(**kwargs):\n",
    "    \"\"\"Constructs a DenseNet-161_DropOut model.\n",
    "    \"\"\"\n",
    "    model = DenseNet3D(num_init_features=96, growth_rate=48, block_config=(6, 12, 36, 24), drop_rate=0.2, **kwargs)\n",
    "    return model"
   ]
  },
  {
   "cell_type": "code",
   "execution_count": 189,
   "metadata": {},
   "outputs": [],
   "source": [
    "model = densenet121_3D_DropOut().to('cuda')"
   ]
  },
  {
   "cell_type": "code",
   "execution_count": 190,
   "metadata": {},
   "outputs": [],
   "source": [
    "model = model.to('cuda')\n",
    "model = nn.DataParallel(model)"
   ]
  },
  {
   "cell_type": "code",
   "execution_count": 126,
   "metadata": {},
   "outputs": [],
   "source": [
    "def update_lr(optimizer, lr):\n",
    "    for g in optimizer.param_groups:\n",
    "        g['lr'] = lr\n",
    "def update_mom(optimizer, mom):\n",
    "    for g in optimizer.param_groups:\n",
    "        g['momentum'] = mom"
   ]
  },
  {
   "cell_type": "code",
   "execution_count": 134,
   "metadata": {},
   "outputs": [],
   "source": [
    "def lr_finder(model,train_loader):\n",
    "    device = torch.device(\"cuda\" if torch.cuda.is_available() else \"cpu\")\n",
    "    criterion = nn.CrossEntropyLoss()\n",
    "    optimizer_ft = optim.Adam(model.parameters(), lr=0.0000001)\n",
    "    lr_finder = LRFinder(model, optimizer_ft, criterion, device=device)\n",
    "    lr_finder.range_test(train_loader, end_lr=1, num_iter=1000)\n",
    "    lr_finder.reset()\n",
    "    lr_finder.plot()"
   ]
  },
  {
   "cell_type": "code",
   "execution_count": 135,
   "metadata": {},
   "outputs": [
    {
     "data": {
      "application/vnd.jupyter.widget-view+json": {
       "model_id": "e3e3069f8c3f4fb4939c7dd18f1a0881",
       "version_major": 2,
       "version_minor": 0
      },
      "text/plain": [
       "HBox(children=(IntProgress(value=0, max=1000), HTML(value='')))"
      ]
     },
     "metadata": {},
     "output_type": "display_data"
    },
    {
     "name": "stdout",
     "output_type": "stream",
     "text": [
      "Stopping early, the loss has diverged\n",
      "Learning rate search finished. See the graph with {finder_name}.plot()\n"
     ]
    },
    {
     "data": {
      "image/png": "[encoded data removed]",
      "text/plain": [
       "<Figure size 432x288 with 1 Axes>"
      ]
     },
     "metadata": {
      "needs_background": "light"
     },
     "output_type": "display_data"
    }
   ],
   "source": [
    "#lr_finder(model,train_loader)"
   ]
  },
  {
   "cell_type": "code",
   "execution_count": 191,
   "metadata": {},
   "outputs": [],
   "source": [
    "from tensorboardX import SummaryWriter\n",
    "writer = SummaryWriter()\n",
    "device = 'cuda'\n",
    "cls_criterion = nn.CrossEntropyLoss().to(device)\n",
    "optimizer = torch.optim.Adam(model.parameters(), lr=1e-3)\n",
    "num_epochs = 10\n",
    "onecyc = OneCycle(len(train_loader)*num_epochs,1e-3)"
   ]
  },
  {
   "cell_type": "code",
   "execution_count": null,
   "metadata": {},
   "outputs": [
    {
     "name": "stdout",
     "output_type": "stream",
     "text": [
      "\n",
      "--- Epoch 0 ---\n",
      "\n",
      "--- Phase train ---\n",
      "[Epoch 0/10] [Batch 363/1340] [Loss: 0.779477 (0.924240), Acc: 50.00% (47.87%)]]"
     ]
    }
   ],
   "source": [
    "from torch.autograd import Variable\n",
    "for epoch in range(num_epochs):\n",
    "    print('')\n",
    "    print(f\"--- Epoch {epoch} ---\")\n",
    "    phase1 = dataloaders.keys()\n",
    "    acc_all = list()\n",
    "    loss_all = list()\n",
    "    for phase in phase1:\n",
    "        print('')\n",
    "        print(f\"--- Phase {phase} ---\")\n",
    "        epoch_metrics = {\"loss\": [], \"acc\": []}\n",
    "        if phase == ' train':\n",
    "            model.train()\n",
    "        else:\n",
    "            model.eval()\n",
    "        for batch_i, (X, y) in enumerate(dataloaders[phase]):\n",
    "            image_sequences = Variable(X.to(device), requires_grad=True)\n",
    "            labels = Variable(y.to(device), requires_grad=False)\n",
    "            optimizer.zero_grad()\n",
    "            #model.lstm.reset_hidden_state()\n",
    "            predictions = model(image_sequences)\n",
    "            loss = cls_criterion(predictions, labels)\n",
    "            acc = 100 * (predictions.detach().argmax(1) == labels).cpu().numpy().mean()\n",
    "            loss.backward()\n",
    "            optimizer.step()\n",
    "            epoch_metrics[\"loss\"].append(loss.item())\n",
    "            epoch_metrics[\"acc\"].append(acc)\n",
    "            if(phase=='train'):\n",
    "                lr,_ = onecyc.calc()\n",
    "                update_lr(optimizer, lr)\n",
    "            batches_done = epoch * len(dataloaders[phase]) + batch_i\n",
    "            batches_left = num_epochs * len(dataloaders[phase]) - batches_done\n",
    "\n",
    "            sys.stdout.write(\n",
    "                    \"\\r[Epoch %d/%d] [Batch %d/%d] [Loss: %f (%f), Acc: %.2f%% (%.2f%%)]\"\n",
    "                    % (\n",
    "                        epoch,\n",
    "                        num_epochs,\n",
    "                        batch_i,\n",
    "                        len(dataloaders[phase]),\n",
    "                        loss.item(),\n",
    "                        np.mean(epoch_metrics[\"loss\"]),\n",
    "                        acc,\n",
    "                        np.mean(epoch_metrics[\"acc\"]),\n",
    "                    )\n",
    "                )\n",
    "\n",
    "                # Empty cache\n",
    "            if torch.cuda.is_available():\n",
    "                torch.cuda.empty_cache()\n",
    "        if(phase=='train'):\n",
    "            writer.add_scalar('data/acc',np.mean(epoch_metrics[\"acc\"]) , epoch)\n",
    "            writer.add_scalar('data/loss',np.mean(epoch_metrics[\"loss\"]) , epoch)\n",
    "            acc_all.append(np.mean(epoch_metrics[\"acc\"]))\n",
    "            loss_all.append(np.mean(epoch_metrics[\"loss\"]))\n",
    "        if(phase=='val'):\n",
    "            writer.add_scalar('data/valacc',np.mean(epoch_metrics[\"acc\"]) , epoch)\n",
    "            writer.add_scalar('data/valloss',np.mean(epoch_metrics[\"loss\"]) , epoch)\n",
    "        print('{} , acc:'.format(phase,np.mean(epoch_metrics[\"acc\"])))"
   ]
  },
  {
   "cell_type": "code",
   "execution_count": 80,
   "metadata": {},
   "outputs": [],
   "source": [
    "torch.save(model.state_dict(),'./t3d_10.h5')"
   ]
  },
  {
   "cell_type": "code",
   "execution_count": 81,
   "metadata": {},
   "outputs": [
    {
     "data": {
      "application/vnd.jupyter.widget-view+json": {
       "model_id": "8af6a88c4576437bb3a81c01c952d73f",
       "version_major": 2,
       "version_minor": 0
      },
      "text/plain": [
       "HBox(children=(IntProgress(value=0, max=1000), HTML(value='')))"
      ]
     },
     "metadata": {},
     "output_type": "display_data"
    },
    {
     "name": "stdout",
     "output_type": "stream",
     "text": [
      "Stopping early, the loss has diverged\n",
      "Learning rate search finished. See the graph with {finder_name}.plot()\n"
     ]
    },
    {
     "data": {
      "image/png": "[encoded data removed]",
      "text/plain": [
       "<Figure size 432x288 with 1 Axes>"
      ]
     },
     "metadata": {
      "needs_background": "light"
     },
     "output_type": "display_data"
    }
   ],
   "source": [
    "lr_finder(model,train_loader)"
   ]
  },
  {
   "cell_type": "code",
   "execution_count": 97,
   "metadata": {},
   "outputs": [],
   "source": [
    "model.load_state_dict(torch.load('./t3d_10.h5'))\n",
    "optimizer = torch.optim.SGD(model.parameters(), lr=1e-3,momentum = 0.9)\n",
    "num_epochs = 5\n",
    "onecyc = OneCycle(len(train_loader)*num_epochs,0.001)"
   ]
  },
  {
   "cell_type": "code",
   "execution_count": 98,
   "metadata": {},
   "outputs": [
    {
     "name": "stdout",
     "output_type": "stream",
     "text": [
      "--- Epoch 0 ---\n",
      "[Epoch 0/5] [Batch 256/1340] [Loss: 0.764911 (0.859098), Acc: 50.00% (53.50%)]]"
     ]
    },
    {
     "ename": "KeyboardInterrupt",
     "evalue": "",
     "output_type": "error",
     "traceback": [
      "\u001b[0;31m---------------------------------------------------------------------------\u001b[0m",
      "\u001b[0;31mKeyboardInterrupt\u001b[0m                         Traceback (most recent call last)",
      "\u001b[0;32m<ipython-input-98-ce8d2c85cdae>\u001b[0m in \u001b[0;36m<module>\u001b[0;34m\u001b[0m\n\u001b[1;32m     12\u001b[0m         \u001b[0macc\u001b[0m \u001b[0;34m=\u001b[0m \u001b[0;36m100\u001b[0m \u001b[0;34m*\u001b[0m \u001b[0;34m(\u001b[0m\u001b[0mpredictions\u001b[0m\u001b[0;34m.\u001b[0m\u001b[0mdetach\u001b[0m\u001b[0;34m(\u001b[0m\u001b[0;34m)\u001b[0m\u001b[0;34m.\u001b[0m\u001b[0margmax\u001b[0m\u001b[0;34m(\u001b[0m\u001b[0;36m1\u001b[0m\u001b[0;34m)\u001b[0m \u001b[0;34m==\u001b[0m \u001b[0mlabels\u001b[0m\u001b[0;34m)\u001b[0m\u001b[0;34m.\u001b[0m\u001b[0mcpu\u001b[0m\u001b[0;34m(\u001b[0m\u001b[0;34m)\u001b[0m\u001b[0;34m.\u001b[0m\u001b[0mnumpy\u001b[0m\u001b[0;34m(\u001b[0m\u001b[0;34m)\u001b[0m\u001b[0;34m.\u001b[0m\u001b[0mmean\u001b[0m\u001b[0;34m(\u001b[0m\u001b[0;34m)\u001b[0m\u001b[0;34m\u001b[0m\u001b[0;34m\u001b[0m\u001b[0m\n\u001b[1;32m     13\u001b[0m         \u001b[0mloss\u001b[0m\u001b[0;34m.\u001b[0m\u001b[0mbackward\u001b[0m\u001b[0;34m(\u001b[0m\u001b[0;34m)\u001b[0m\u001b[0;34m\u001b[0m\u001b[0;34m\u001b[0m\u001b[0m\n\u001b[0;32m---> 14\u001b[0;31m         \u001b[0moptimizer\u001b[0m\u001b[0;34m.\u001b[0m\u001b[0mstep\u001b[0m\u001b[0;34m(\u001b[0m\u001b[0;34m)\u001b[0m\u001b[0;34m\u001b[0m\u001b[0;34m\u001b[0m\u001b[0m\n\u001b[0m\u001b[1;32m     15\u001b[0m         \u001b[0mepoch_metrics\u001b[0m\u001b[0;34m[\u001b[0m\u001b[0;34m\"loss\"\u001b[0m\u001b[0;34m]\u001b[0m\u001b[0;34m.\u001b[0m\u001b[0mappend\u001b[0m\u001b[0;34m(\u001b[0m\u001b[0mloss\u001b[0m\u001b[0;34m.\u001b[0m\u001b[0mitem\u001b[0m\u001b[0;34m(\u001b[0m\u001b[0;34m)\u001b[0m\u001b[0;34m)\u001b[0m\u001b[0;34m\u001b[0m\u001b[0;34m\u001b[0m\u001b[0m\n\u001b[1;32m     16\u001b[0m         \u001b[0mepoch_metrics\u001b[0m\u001b[0;34m[\u001b[0m\u001b[0;34m\"acc\"\u001b[0m\u001b[0;34m]\u001b[0m\u001b[0;34m.\u001b[0m\u001b[0mappend\u001b[0m\u001b[0;34m(\u001b[0m\u001b[0macc\u001b[0m\u001b[0;34m)\u001b[0m\u001b[0;34m\u001b[0m\u001b[0;34m\u001b[0m\u001b[0m\n",
      "\u001b[0;32m~/anaconda3/lib/python3.7/site-packages/torch/optim/sgd.py\u001b[0m in \u001b[0;36mstep\u001b[0;34m(self, closure)\u001b[0m\n\u001b[1;32m     98\u001b[0m                     \u001b[0;32melse\u001b[0m\u001b[0;34m:\u001b[0m\u001b[0;34m\u001b[0m\u001b[0;34m\u001b[0m\u001b[0m\n\u001b[1;32m     99\u001b[0m                         \u001b[0mbuf\u001b[0m \u001b[0;34m=\u001b[0m \u001b[0mparam_state\u001b[0m\u001b[0;34m[\u001b[0m\u001b[0;34m'momentum_buffer'\u001b[0m\u001b[0;34m]\u001b[0m\u001b[0;34m\u001b[0m\u001b[0;34m\u001b[0m\u001b[0m\n\u001b[0;32m--> 100\u001b[0;31m                         \u001b[0mbuf\u001b[0m\u001b[0;34m.\u001b[0m\u001b[0mmul_\u001b[0m\u001b[0;34m(\u001b[0m\u001b[0mmomentum\u001b[0m\u001b[0;34m)\u001b[0m\u001b[0;34m.\u001b[0m\u001b[0madd_\u001b[0m\u001b[0;34m(\u001b[0m\u001b[0;36m1\u001b[0m \u001b[0;34m-\u001b[0m \u001b[0mdampening\u001b[0m\u001b[0;34m,\u001b[0m \u001b[0md_p\u001b[0m\u001b[0;34m)\u001b[0m\u001b[0;34m\u001b[0m\u001b[0;34m\u001b[0m\u001b[0m\n\u001b[0m\u001b[1;32m    101\u001b[0m                     \u001b[0;32mif\u001b[0m \u001b[0mnesterov\u001b[0m\u001b[0;34m:\u001b[0m\u001b[0;34m\u001b[0m\u001b[0;34m\u001b[0m\u001b[0m\n\u001b[1;32m    102\u001b[0m                         \u001b[0md_p\u001b[0m \u001b[0;34m=\u001b[0m \u001b[0md_p\u001b[0m\u001b[0;34m.\u001b[0m\u001b[0madd\u001b[0m\u001b[0;34m(\u001b[0m\u001b[0mmomentum\u001b[0m\u001b[0;34m,\u001b[0m \u001b[0mbuf\u001b[0m\u001b[0;34m)\u001b[0m\u001b[0;34m\u001b[0m\u001b[0;34m\u001b[0m\u001b[0m\n",
      "\u001b[0;31mKeyboardInterrupt\u001b[0m: "
     ]
    }
   ],
   "source": [
    "from torch.autograd import Variable\n",
    "for epoch in range(num_epochs):\n",
    "    epoch_metrics1 = {\"loss\": [], \"acc\": []}\n",
    "    print('')\n",
    "    print(f\"--- Epoch {epoch} ---\")\n",
    "    for batch_i, (X, y) in enumerate(train_loader):\n",
    "        image_sequences = Variable(X.to(device), requires_grad=True)\n",
    "        labels = Variable(y.to(device), requires_grad=False)\n",
    "        optimizer.zero_grad()\n",
    "        #model.lstm.reset_hidden_state()\n",
    "        predictions = model(image_sequences)\n",
    "        loss = cls_criterion(predictions, labels)\n",
    "        acc = 100 * (predictions.detach().argmax(1) == labels).cpu().numpy().mean()\n",
    "        loss.backward()\n",
    "        optimizer.step()\n",
    "        epoch_metrics[\"loss\"].append(loss.item())\n",
    "        epoch_metrics[\"acc\"].append(acc)\n",
    "        \n",
    "        lr,mom = onecyc.calc()\n",
    "        update_lr(optimizer, lr)\n",
    "        update_mom(optimizer, mom)\n",
    "        batches_done = epoch * len(train_loader) + batch_i\n",
    "        batches_left = num_epochs * len(train_loader) - batches_done\n",
    "        \n",
    "        sys.stdout.write(\n",
    "                \"\\r[Epoch %d/%d] [Batch %d/%d] [Loss: %f (%f), Acc: %.2f%% (%.2f%%)]\"\n",
    "                % (\n",
    "                    epoch,\n",
    "                    num_epochs,\n",
    "                    batch_i,\n",
    "                    len(train_loader),\n",
    "                    loss.item(),\n",
    "                    np.mean(epoch_metrics[\"loss\"]),\n",
    "                    acc,\n",
    "                    np.mean(epoch_metrics[\"acc\"]),\n",
    "                )\n",
    "            )\n",
    "\n",
    "            # Empty cache\n",
    "        if torch.cuda.is_available():\n",
    "            torch.cuda.empty_cache()\n",
    "    writer.add_scalar('data/acc',np.mean(epoch_metrics[\"acc\"]) , epoch)\n",
    "    writer.add_scalar('data/loss',np.mean(epoch_metrics[\"loss\"]) , epoch)"
   ]
  },
  {
   "cell_type": "code",
   "execution_count": null,
   "metadata": {},
   "outputs": [],
   "source": [
    "torch.save(model.state_dict(),'./t3d_10.h5')\n",
    "lr_finder(model,train_loader)"
   ]
  },
  {
   "cell_type": "code",
   "execution_count": null,
   "metadata": {},
   "outputs": [],
   "source": [
    "model.load_state_dict(torch.load('./t3d_10.h5'))\n",
    "optimizer = torch.optim.SGD(model.parameters(), lr=1e-3,momentum = 0.9)\n",
    "num_epochs = 5\n",
    "onecyc = OneCycle(len(train_loader)*num_epochs,0.001)"
   ]
  }
 ],
 "metadata": {
  "kernelspec": {
   "display_name": "Python 3",
   "language": "python",
   "name": "python3"
  }
 },
 "nbformat": 4,
 "nbformat_minor": 2
}
